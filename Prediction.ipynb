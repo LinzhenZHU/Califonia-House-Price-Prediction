{
 "cells": [
  {
   "cell_type": "code",
   "execution_count": 1,
   "id": "38a977e4-a967-4312-a8e8-4440ea8e0566",
   "metadata": {},
   "outputs": [],
   "source": [
    "# Import necessary libraries for data manipulation, visualization, machine learning, and neural networks.\n",
    "import numpy as np\n",
    "import pandas as pd\n",
    "import matplotlib. pyplot as plt\n",
    "import seaborn as sns\n",
    "import torch\n",
    "from IPython import display\n",
    "import matplotlib_inline\n",
    "from sklearn.model_selection import train_test_split\n",
    "from sklearn.linear_model import LinearRegression\n",
    "from sklearn.tree import DecisionTreeRegressor\n",
    "from sklearn.ensemble import RandomForestRegressor\n",
    "from sklearn.neural_network import MLPRegressor\n",
    "from sklearn.metrics import mean_squared_error, mean_squared_error, mean_absolute_error"
   ]
  },
  {
   "cell_type": "code",
   "execution_count": 2,
   "id": "aedf1947-3e57-4dac-bbd3-99d5488abc68",
   "metadata": {},
   "outputs": [],
   "source": [
    "# Load data from CSV files into Pandas DataFrames for both test and training datasets.\n",
    "test_data = pd.read_csv('test.csv')\n",
    "train_data = pd.read_csv('train.csv')"
   ]
  },
  {
   "cell_type": "code",
   "execution_count": 3,
   "id": "69922666-5cd0-4994-8185-901875e6dc33",
   "metadata": {},
   "outputs": [
    {
     "data": {
      "text/plain": [
       "(47439, 41)"
      ]
     },
     "execution_count": 3,
     "metadata": {},
     "output_type": "execute_result"
    }
   ],
   "source": [
    "# Display the number of rows and columns in the training data to understand dataset size.\n",
    "train_data.shape"
   ]
  },
  {
   "cell_type": "code",
   "execution_count": 4,
   "id": "c6728918-be60-41ab-bde9-a846a1194543",
   "metadata": {},
   "outputs": [
    {
     "data": {
      "text/html": [
       "<div>\n",
       "<style scoped>\n",
       "    .dataframe tbody tr th:only-of-type {\n",
       "        vertical-align: middle;\n",
       "    }\n",
       "\n",
       "    .dataframe tbody tr th {\n",
       "        vertical-align: top;\n",
       "    }\n",
       "\n",
       "    .dataframe thead th {\n",
       "        text-align: right;\n",
       "    }\n",
       "</style>\n",
       "<table border=\"1\" class=\"dataframe\">\n",
       "  <thead>\n",
       "    <tr style=\"text-align: right;\">\n",
       "      <th></th>\n",
       "      <th>Id</th>\n",
       "      <th>Address</th>\n",
       "      <th>Sold Price</th>\n",
       "      <th>Summary</th>\n",
       "      <th>Type</th>\n",
       "      <th>Year built</th>\n",
       "      <th>Heating</th>\n",
       "      <th>Cooling</th>\n",
       "      <th>Parking</th>\n",
       "      <th>Lot</th>\n",
       "      <th>...</th>\n",
       "      <th>Parking features</th>\n",
       "      <th>Tax assessed value</th>\n",
       "      <th>Annual tax amount</th>\n",
       "      <th>Listed On</th>\n",
       "      <th>Listed Price</th>\n",
       "      <th>Last Sold On</th>\n",
       "      <th>Last Sold Price</th>\n",
       "      <th>City</th>\n",
       "      <th>Zip</th>\n",
       "      <th>State</th>\n",
       "    </tr>\n",
       "  </thead>\n",
       "  <tbody>\n",
       "    <tr>\n",
       "      <th>0</th>\n",
       "      <td>0</td>\n",
       "      <td>540 Pine Ln</td>\n",
       "      <td>3825000.0</td>\n",
       "      <td>540 Pine Ln, Los Altos, CA 94022 is a single f...</td>\n",
       "      <td>SingleFamily</td>\n",
       "      <td>1969.0</td>\n",
       "      <td>Heating - 2+ Zones, Central Forced Air - Gas</td>\n",
       "      <td>Multi-Zone, Central AC, Whole House / Attic Fan</td>\n",
       "      <td>Garage, Garage - Attached, Covered</td>\n",
       "      <td>1.0</td>\n",
       "      <td>...</td>\n",
       "      <td>Garage, Garage - Attached, Covered</td>\n",
       "      <td>886486.0</td>\n",
       "      <td>12580.0</td>\n",
       "      <td>2019-10-24</td>\n",
       "      <td>4198000.0</td>\n",
       "      <td>NaN</td>\n",
       "      <td>NaN</td>\n",
       "      <td>Los Altos</td>\n",
       "      <td>94022</td>\n",
       "      <td>CA</td>\n",
       "    </tr>\n",
       "    <tr>\n",
       "      <th>1</th>\n",
       "      <td>1</td>\n",
       "      <td>1727 W 67th St</td>\n",
       "      <td>505000.0</td>\n",
       "      <td>HURRY, HURRY.......Great house 3 bed and 2 bat...</td>\n",
       "      <td>SingleFamily</td>\n",
       "      <td>1926.0</td>\n",
       "      <td>Combination</td>\n",
       "      <td>Wall/Window Unit(s), Evaporative Cooling, See ...</td>\n",
       "      <td>Detached Carport, Garage</td>\n",
       "      <td>4047.0</td>\n",
       "      <td>...</td>\n",
       "      <td>Detached Carport, Garage</td>\n",
       "      <td>505000.0</td>\n",
       "      <td>6253.0</td>\n",
       "      <td>2019-10-16</td>\n",
       "      <td>525000.0</td>\n",
       "      <td>2019-08-30</td>\n",
       "      <td>328000.0</td>\n",
       "      <td>Los Angeles</td>\n",
       "      <td>90047</td>\n",
       "      <td>CA</td>\n",
       "    </tr>\n",
       "    <tr>\n",
       "      <th>2</th>\n",
       "      <td>2</td>\n",
       "      <td>28093 Pine Ave</td>\n",
       "      <td>140000.0</td>\n",
       "      <td>'THE PERFECT CABIN TO FLIP!  Strawberry deligh...</td>\n",
       "      <td>SingleFamily</td>\n",
       "      <td>1958.0</td>\n",
       "      <td>Forced air</td>\n",
       "      <td>NaN</td>\n",
       "      <td>0 spaces</td>\n",
       "      <td>9147.0</td>\n",
       "      <td>...</td>\n",
       "      <td>NaN</td>\n",
       "      <td>49627.0</td>\n",
       "      <td>468.0</td>\n",
       "      <td>2019-08-25</td>\n",
       "      <td>180000.0</td>\n",
       "      <td>NaN</td>\n",
       "      <td>NaN</td>\n",
       "      <td>Strawberry</td>\n",
       "      <td>95375</td>\n",
       "      <td>CA</td>\n",
       "    </tr>\n",
       "    <tr>\n",
       "      <th>3</th>\n",
       "      <td>3</td>\n",
       "      <td>10750 Braddock Dr</td>\n",
       "      <td>1775000.0</td>\n",
       "      <td>Rare 2-story Gated 5 bedroom Modern Mediterran...</td>\n",
       "      <td>SingleFamily</td>\n",
       "      <td>1947.0</td>\n",
       "      <td>Central</td>\n",
       "      <td>Central Air</td>\n",
       "      <td>Detached Carport, Driveway, Garage - Two Door</td>\n",
       "      <td>NaN</td>\n",
       "      <td>...</td>\n",
       "      <td>Detached Carport, Driveway, Garage - Two Door</td>\n",
       "      <td>1775000.0</td>\n",
       "      <td>20787.0</td>\n",
       "      <td>2019-10-24</td>\n",
       "      <td>1895000.0</td>\n",
       "      <td>2016-08-30</td>\n",
       "      <td>1500000.0</td>\n",
       "      <td>Culver City</td>\n",
       "      <td>90230</td>\n",
       "      <td>CA</td>\n",
       "    </tr>\n",
       "    <tr>\n",
       "      <th>4</th>\n",
       "      <td>4</td>\n",
       "      <td>7415 O Donovan Rd</td>\n",
       "      <td>1175000.0</td>\n",
       "      <td>Beautiful 200 acre ranch land with several pas...</td>\n",
       "      <td>VacantLand</td>\n",
       "      <td>NaN</td>\n",
       "      <td>NaN</td>\n",
       "      <td>NaN</td>\n",
       "      <td>0 spaces</td>\n",
       "      <td>NaN</td>\n",
       "      <td>...</td>\n",
       "      <td>NaN</td>\n",
       "      <td>NaN</td>\n",
       "      <td>NaN</td>\n",
       "      <td>2019-06-07</td>\n",
       "      <td>1595000.0</td>\n",
       "      <td>2016-06-27</td>\n",
       "      <td>900000.0</td>\n",
       "      <td>Creston</td>\n",
       "      <td>93432</td>\n",
       "      <td>CA</td>\n",
       "    </tr>\n",
       "  </tbody>\n",
       "</table>\n",
       "<p>5 rows × 41 columns</p>\n",
       "</div>"
      ],
      "text/plain": [
       "   Id            Address  Sold Price  \\\n",
       "0   0        540 Pine Ln   3825000.0   \n",
       "1   1     1727 W 67th St    505000.0   \n",
       "2   2     28093 Pine Ave    140000.0   \n",
       "3   3  10750 Braddock Dr   1775000.0   \n",
       "4   4  7415 O Donovan Rd   1175000.0   \n",
       "\n",
       "                                             Summary          Type  \\\n",
       "0  540 Pine Ln, Los Altos, CA 94022 is a single f...  SingleFamily   \n",
       "1  HURRY, HURRY.......Great house 3 bed and 2 bat...  SingleFamily   \n",
       "2  'THE PERFECT CABIN TO FLIP!  Strawberry deligh...  SingleFamily   \n",
       "3  Rare 2-story Gated 5 bedroom Modern Mediterran...  SingleFamily   \n",
       "4  Beautiful 200 acre ranch land with several pas...    VacantLand   \n",
       "\n",
       "   Year built                                       Heating  \\\n",
       "0      1969.0  Heating - 2+ Zones, Central Forced Air - Gas   \n",
       "1      1926.0                                   Combination   \n",
       "2      1958.0                                    Forced air   \n",
       "3      1947.0                                       Central   \n",
       "4         NaN                                           NaN   \n",
       "\n",
       "                                             Cooling  \\\n",
       "0    Multi-Zone, Central AC, Whole House / Attic Fan   \n",
       "1  Wall/Window Unit(s), Evaporative Cooling, See ...   \n",
       "2                                                NaN   \n",
       "3                                        Central Air   \n",
       "4                                                NaN   \n",
       "\n",
       "                                         Parking     Lot  ...  \\\n",
       "0             Garage, Garage - Attached, Covered     1.0  ...   \n",
       "1                       Detached Carport, Garage  4047.0  ...   \n",
       "2                                       0 spaces  9147.0  ...   \n",
       "3  Detached Carport, Driveway, Garage - Two Door     NaN  ...   \n",
       "4                                       0 spaces     NaN  ...   \n",
       "\n",
       "                                Parking features  Tax assessed value  \\\n",
       "0             Garage, Garage - Attached, Covered            886486.0   \n",
       "1                       Detached Carport, Garage            505000.0   \n",
       "2                                            NaN             49627.0   \n",
       "3  Detached Carport, Driveway, Garage - Two Door           1775000.0   \n",
       "4                                            NaN                 NaN   \n",
       "\n",
       "   Annual tax amount   Listed On  Listed Price  Last Sold On Last Sold Price  \\\n",
       "0            12580.0  2019-10-24     4198000.0           NaN             NaN   \n",
       "1             6253.0  2019-10-16      525000.0    2019-08-30        328000.0   \n",
       "2              468.0  2019-08-25      180000.0           NaN             NaN   \n",
       "3            20787.0  2019-10-24     1895000.0    2016-08-30       1500000.0   \n",
       "4                NaN  2019-06-07     1595000.0    2016-06-27        900000.0   \n",
       "\n",
       "          City    Zip  State  \n",
       "0    Los Altos  94022     CA  \n",
       "1  Los Angeles  90047     CA  \n",
       "2   Strawberry  95375     CA  \n",
       "3  Culver City  90230     CA  \n",
       "4      Creston  93432     CA  \n",
       "\n",
       "[5 rows x 41 columns]"
      ]
     },
     "execution_count": 4,
     "metadata": {},
     "output_type": "execute_result"
    }
   ],
   "source": [
    "# Show the first few rows of the training dataset to preview the data and its structure.\n",
    "train_data.head()"
   ]
  },
  {
   "cell_type": "code",
   "execution_count": 5,
   "id": "0f4b3757-a8d1-4a49-857e-193d8c2e7e42",
   "metadata": {},
   "outputs": [
    {
     "data": {
      "text/plain": [
       "Index(['Id', 'Address', 'Sold Price', 'Summary', 'Type', 'Year built',\n",
       "       'Heating', 'Parking', 'Lot', 'Bedrooms', 'Bathrooms', 'Full bathrooms',\n",
       "       'Total interior livable area', 'Total spaces', 'Garage spaces',\n",
       "       'Region', 'Elementary School', 'Elementary School Score',\n",
       "       'Elementary School Distance', 'High School', 'High School Score',\n",
       "       'High School Distance', 'Flooring', 'Heating features',\n",
       "       'Appliances included', 'Parking features', 'Tax assessed value',\n",
       "       'Annual tax amount', 'Listed On', 'Listed Price', 'City', 'Zip',\n",
       "       'State'],\n",
       "      dtype='object')"
      ]
     },
     "execution_count": 5,
     "metadata": {},
     "output_type": "execute_result"
    }
   ],
   "source": [
    "# Calculate the sum of null (missing) values in each column and filter columns where less than 30% of the data is missing.\n",
    "null_sum = train_data.isnull().sum()\n",
    "train_data.columns[null_sum<len(train_data)*0.3]"
   ]
  },
  {
   "cell_type": "code",
   "execution_count": 6,
   "id": "129e7cf2-637a-4272-bdef-ebdbc1e9b81d",
   "metadata": {},
   "outputs": [
    {
     "data": {
      "text/plain": [
       "(31626, 32)"
      ]
     },
     "execution_count": 6,
     "metadata": {},
     "output_type": "execute_result"
    }
   ],
   "source": [
    "# Remove columns from the training data where more than 30% of the data is missing.\n",
    "test_data.drop(columns=train_data.columns[null_sum>len(train_data)*0.3],inplace=True)\n",
    "train_data.drop(columns=train_data.columns[null_sum>len(train_data)*0.3],inplace=True)\n",
    "train_data.shape\n",
    "test_data.shape"
   ]
  },
  {
   "cell_type": "code",
   "execution_count": 7,
   "id": "72d09589-e052-4c13-959a-8906b606a42f",
   "metadata": {},
   "outputs": [
    {
     "data": {
      "text/plain": [
       "Id                               int64\n",
       "Address                         object\n",
       "Sold Price                     float64\n",
       "Summary                         object\n",
       "Type                            object\n",
       "Year built                     float64\n",
       "Heating                         object\n",
       "Parking                         object\n",
       "Lot                            float64\n",
       "Bedrooms                        object\n",
       "Bathrooms                      float64\n",
       "Full bathrooms                 float64\n",
       "Total interior livable area    float64\n",
       "Total spaces                   float64\n",
       "Garage spaces                  float64\n",
       "Region                          object\n",
       "Elementary School               object\n",
       "Elementary School Score        float64\n",
       "Elementary School Distance     float64\n",
       "High School                     object\n",
       "High School Score              float64\n",
       "High School Distance           float64\n",
       "Flooring                        object\n",
       "Heating features                object\n",
       "Appliances included             object\n",
       "Parking features                object\n",
       "Tax assessed value             float64\n",
       "Annual tax amount              float64\n",
       "Listed On                       object\n",
       "Listed Price                   float64\n",
       "City                            object\n",
       "Zip                              int64\n",
       "State                           object\n",
       "dtype: object"
      ]
     },
     "execution_count": 7,
     "metadata": {},
     "output_type": "execute_result"
    }
   ],
   "source": [
    "# Display data types of each column in the training data.\n",
    "train_data.dtypes"
   ]
  },
  {
   "cell_type": "code",
   "execution_count": 8,
   "id": "2911f6fa-5e47-4759-bfdf-1c9be0b40f8b",
   "metadata": {},
   "outputs": [],
   "source": [
    "# Convert certain columns to appropriate data types for analysis.\n",
    "train_data['Id']=train_data['Id'].astype(int)\n",
    "train_data['Elementary School Score']=train_data['Elementary School Score'].astype(float)\n",
    "train_data['Total spaces']=train_data['Total spaces'].astype(float)\n",
    "train_data['Bathrooms']=train_data['Bathrooms'].astype(float)\n",
    "train_data['Garage spaces']=train_data['Garage spaces'].astype(float)\n",
    "train_data['Zip']=train_data['Zip'].astype(int)"
   ]
  },
  {
   "cell_type": "code",
   "execution_count": 9,
   "id": "3342d577-fe53-4f17-81a4-8f1307a35cc8",
   "metadata": {
    "scrolled": true
   },
   "outputs": [
    {
     "data": {
      "text/html": [
       "<div>\n",
       "<style scoped>\n",
       "    .dataframe tbody tr th:only-of-type {\n",
       "        vertical-align: middle;\n",
       "    }\n",
       "\n",
       "    .dataframe tbody tr th {\n",
       "        vertical-align: top;\n",
       "    }\n",
       "\n",
       "    .dataframe thead th {\n",
       "        text-align: right;\n",
       "    }\n",
       "</style>\n",
       "<table border=\"1\" class=\"dataframe\">\n",
       "  <thead>\n",
       "    <tr style=\"text-align: right;\">\n",
       "      <th></th>\n",
       "      <th>Id</th>\n",
       "      <th>Address</th>\n",
       "      <th>Sold Price</th>\n",
       "      <th>Summary</th>\n",
       "      <th>Type</th>\n",
       "      <th>Year built</th>\n",
       "      <th>Heating</th>\n",
       "      <th>Parking</th>\n",
       "      <th>Lot</th>\n",
       "      <th>Bedrooms</th>\n",
       "      <th>...</th>\n",
       "      <th>Heating features</th>\n",
       "      <th>Appliances included</th>\n",
       "      <th>Parking features</th>\n",
       "      <th>Tax assessed value</th>\n",
       "      <th>Annual tax amount</th>\n",
       "      <th>Listed On</th>\n",
       "      <th>Listed Price</th>\n",
       "      <th>City</th>\n",
       "      <th>Zip</th>\n",
       "      <th>State</th>\n",
       "    </tr>\n",
       "  </thead>\n",
       "  <tbody>\n",
       "    <tr>\n",
       "      <th>0</th>\n",
       "      <td>0</td>\n",
       "      <td>540 Pine Ln</td>\n",
       "      <td>3825000.0</td>\n",
       "      <td>540 Pine Ln, Los Altos, CA 94022 is a single f...</td>\n",
       "      <td>SingleFamily</td>\n",
       "      <td>1969.0</td>\n",
       "      <td>Heating - 2+ Zones, Central Forced Air - Gas</td>\n",
       "      <td>Garage, Garage - Attached, Covered</td>\n",
       "      <td>1.0</td>\n",
       "      <td>Ground Floor Bedroom, Master Bedroom on Ground...</td>\n",
       "      <td>...</td>\n",
       "      <td>Forced air, Gas</td>\n",
       "      <td>Dishwasher, Dryer, Garbage disposal, Microwave...</td>\n",
       "      <td>Garage, Garage - Attached, Covered</td>\n",
       "      <td>886486.0</td>\n",
       "      <td>12580.0</td>\n",
       "      <td>2019-10-24</td>\n",
       "      <td>4198000.0</td>\n",
       "      <td>Los Altos</td>\n",
       "      <td>94022</td>\n",
       "      <td>CA</td>\n",
       "    </tr>\n",
       "    <tr>\n",
       "      <th>1</th>\n",
       "      <td>1</td>\n",
       "      <td>1727 W 67th St</td>\n",
       "      <td>505000.0</td>\n",
       "      <td>HURRY, HURRY.......Great house 3 bed and 2 bat...</td>\n",
       "      <td>SingleFamily</td>\n",
       "      <td>1926.0</td>\n",
       "      <td>Combination</td>\n",
       "      <td>Detached Carport, Garage</td>\n",
       "      <td>4047.0</td>\n",
       "      <td>3</td>\n",
       "      <td>...</td>\n",
       "      <td>Combination</td>\n",
       "      <td>NaN</td>\n",
       "      <td>Detached Carport, Garage</td>\n",
       "      <td>505000.0</td>\n",
       "      <td>6253.0</td>\n",
       "      <td>2019-10-16</td>\n",
       "      <td>525000.0</td>\n",
       "      <td>Los Angeles</td>\n",
       "      <td>90047</td>\n",
       "      <td>CA</td>\n",
       "    </tr>\n",
       "    <tr>\n",
       "      <th>2</th>\n",
       "      <td>2</td>\n",
       "      <td>28093 Pine Ave</td>\n",
       "      <td>140000.0</td>\n",
       "      <td>'THE PERFECT CABIN TO FLIP!  Strawberry deligh...</td>\n",
       "      <td>SingleFamily</td>\n",
       "      <td>1958.0</td>\n",
       "      <td>Forced air</td>\n",
       "      <td>0 spaces</td>\n",
       "      <td>9147.0</td>\n",
       "      <td>2</td>\n",
       "      <td>...</td>\n",
       "      <td>Forced air</td>\n",
       "      <td>NaN</td>\n",
       "      <td>NaN</td>\n",
       "      <td>49627.0</td>\n",
       "      <td>468.0</td>\n",
       "      <td>2019-08-25</td>\n",
       "      <td>180000.0</td>\n",
       "      <td>Strawberry</td>\n",
       "      <td>95375</td>\n",
       "      <td>CA</td>\n",
       "    </tr>\n",
       "    <tr>\n",
       "      <th>3</th>\n",
       "      <td>3</td>\n",
       "      <td>10750 Braddock Dr</td>\n",
       "      <td>1775000.0</td>\n",
       "      <td>Rare 2-story Gated 5 bedroom Modern Mediterran...</td>\n",
       "      <td>SingleFamily</td>\n",
       "      <td>1947.0</td>\n",
       "      <td>Central</td>\n",
       "      <td>Detached Carport, Driveway, Garage - Two Door</td>\n",
       "      <td>NaN</td>\n",
       "      <td>5</td>\n",
       "      <td>...</td>\n",
       "      <td>Central</td>\n",
       "      <td>Dishwasher</td>\n",
       "      <td>Detached Carport, Driveway, Garage - Two Door</td>\n",
       "      <td>1775000.0</td>\n",
       "      <td>20787.0</td>\n",
       "      <td>2019-10-24</td>\n",
       "      <td>1895000.0</td>\n",
       "      <td>Culver City</td>\n",
       "      <td>90230</td>\n",
       "      <td>CA</td>\n",
       "    </tr>\n",
       "    <tr>\n",
       "      <th>4</th>\n",
       "      <td>4</td>\n",
       "      <td>7415 O Donovan Rd</td>\n",
       "      <td>1175000.0</td>\n",
       "      <td>Beautiful 200 acre ranch land with several pas...</td>\n",
       "      <td>VacantLand</td>\n",
       "      <td>NaN</td>\n",
       "      <td>NaN</td>\n",
       "      <td>0 spaces</td>\n",
       "      <td>NaN</td>\n",
       "      <td>NaN</td>\n",
       "      <td>...</td>\n",
       "      <td>NaN</td>\n",
       "      <td>NaN</td>\n",
       "      <td>NaN</td>\n",
       "      <td>NaN</td>\n",
       "      <td>NaN</td>\n",
       "      <td>2019-06-07</td>\n",
       "      <td>1595000.0</td>\n",
       "      <td>Creston</td>\n",
       "      <td>93432</td>\n",
       "      <td>CA</td>\n",
       "    </tr>\n",
       "  </tbody>\n",
       "</table>\n",
       "<p>5 rows × 33 columns</p>\n",
       "</div>"
      ],
      "text/plain": [
       "   Id            Address  Sold Price  \\\n",
       "0   0        540 Pine Ln   3825000.0   \n",
       "1   1     1727 W 67th St    505000.0   \n",
       "2   2     28093 Pine Ave    140000.0   \n",
       "3   3  10750 Braddock Dr   1775000.0   \n",
       "4   4  7415 O Donovan Rd   1175000.0   \n",
       "\n",
       "                                             Summary          Type  \\\n",
       "0  540 Pine Ln, Los Altos, CA 94022 is a single f...  SingleFamily   \n",
       "1  HURRY, HURRY.......Great house 3 bed and 2 bat...  SingleFamily   \n",
       "2  'THE PERFECT CABIN TO FLIP!  Strawberry deligh...  SingleFamily   \n",
       "3  Rare 2-story Gated 5 bedroom Modern Mediterran...  SingleFamily   \n",
       "4  Beautiful 200 acre ranch land with several pas...    VacantLand   \n",
       "\n",
       "   Year built                                       Heating  \\\n",
       "0      1969.0  Heating - 2+ Zones, Central Forced Air - Gas   \n",
       "1      1926.0                                   Combination   \n",
       "2      1958.0                                    Forced air   \n",
       "3      1947.0                                       Central   \n",
       "4         NaN                                           NaN   \n",
       "\n",
       "                                         Parking     Lot  \\\n",
       "0             Garage, Garage - Attached, Covered     1.0   \n",
       "1                       Detached Carport, Garage  4047.0   \n",
       "2                                       0 spaces  9147.0   \n",
       "3  Detached Carport, Driveway, Garage - Two Door     NaN   \n",
       "4                                       0 spaces     NaN   \n",
       "\n",
       "                                            Bedrooms  ...  Heating features  \\\n",
       "0  Ground Floor Bedroom, Master Bedroom on Ground...  ...   Forced air, Gas   \n",
       "1                                                  3  ...       Combination   \n",
       "2                                                  2  ...        Forced air   \n",
       "3                                                  5  ...           Central   \n",
       "4                                                NaN  ...               NaN   \n",
       "\n",
       "                                 Appliances included  \\\n",
       "0  Dishwasher, Dryer, Garbage disposal, Microwave...   \n",
       "1                                                NaN   \n",
       "2                                                NaN   \n",
       "3                                         Dishwasher   \n",
       "4                                                NaN   \n",
       "\n",
       "                                Parking features  Tax assessed value  \\\n",
       "0             Garage, Garage - Attached, Covered            886486.0   \n",
       "1                       Detached Carport, Garage            505000.0   \n",
       "2                                            NaN             49627.0   \n",
       "3  Detached Carport, Driveway, Garage - Two Door           1775000.0   \n",
       "4                                            NaN                 NaN   \n",
       "\n",
       "   Annual tax amount   Listed On Listed Price         City    Zip State  \n",
       "0            12580.0  2019-10-24    4198000.0    Los Altos  94022    CA  \n",
       "1             6253.0  2019-10-16     525000.0  Los Angeles  90047    CA  \n",
       "2              468.0  2019-08-25     180000.0   Strawberry  95375    CA  \n",
       "3            20787.0  2019-10-24    1895000.0  Culver City  90230    CA  \n",
       "4                NaN  2019-06-07    1595000.0      Creston  93432    CA  \n",
       "\n",
       "[5 rows x 33 columns]"
      ]
     },
     "execution_count": 9,
     "metadata": {},
     "output_type": "execute_result"
    }
   ],
   "source": [
    "# Preview the modified training data with updated data types.\n",
    "train_data.head()"
   ]
  },
  {
   "cell_type": "code",
   "execution_count": 10,
   "id": "dafa1edd-9c6d-4140-9003-618135eefc69",
   "metadata": {},
   "outputs": [],
   "source": [
    "# Clean currency-related columns by removing non-numeric characters and convert to float.\n",
    "currency = ['Sold Price', 'Listed Price', 'Tax assessed value', 'Annual tax amount']\n",
    "for c in currency:\n",
    "    train_data[c] = train_data[c].replace(\n",
    "        r'[$,-]','', regex=True).replace(\n",
    "        r'^\\s*$', np.nan, regex=True).astype(float)"
   ]
  },
  {
   "cell_type": "code",
   "execution_count": 11,
   "id": "677972cf-3daa-45c5-a581-c934ba64b9db",
   "metadata": {},
   "outputs": [
    {
     "data": {
      "text/html": [
       "<div>\n",
       "<style scoped>\n",
       "    .dataframe tbody tr th:only-of-type {\n",
       "        vertical-align: middle;\n",
       "    }\n",
       "\n",
       "    .dataframe tbody tr th {\n",
       "        vertical-align: top;\n",
       "    }\n",
       "\n",
       "    .dataframe thead th {\n",
       "        text-align: right;\n",
       "    }\n",
       "</style>\n",
       "<table border=\"1\" class=\"dataframe\">\n",
       "  <thead>\n",
       "    <tr style=\"text-align: right;\">\n",
       "      <th></th>\n",
       "      <th>Id</th>\n",
       "      <th>Sold Price</th>\n",
       "      <th>Year built</th>\n",
       "      <th>Lot</th>\n",
       "      <th>Bathrooms</th>\n",
       "      <th>Full bathrooms</th>\n",
       "      <th>Total interior livable area</th>\n",
       "      <th>Total spaces</th>\n",
       "      <th>Garage spaces</th>\n",
       "      <th>Elementary School Score</th>\n",
       "      <th>Elementary School Distance</th>\n",
       "      <th>High School Score</th>\n",
       "      <th>High School Distance</th>\n",
       "      <th>Tax assessed value</th>\n",
       "      <th>Annual tax amount</th>\n",
       "      <th>Listed Price</th>\n",
       "      <th>Zip</th>\n",
       "    </tr>\n",
       "  </thead>\n",
       "  <tbody>\n",
       "    <tr>\n",
       "      <th>count</th>\n",
       "      <td>47439.000000</td>\n",
       "      <td>4.743900e+04</td>\n",
       "      <td>46394.000000</td>\n",
       "      <td>3.325800e+04</td>\n",
       "      <td>43974.000000</td>\n",
       "      <td>39574.000000</td>\n",
       "      <td>4.491300e+04</td>\n",
       "      <td>46523.000000</td>\n",
       "      <td>46522.000000</td>\n",
       "      <td>42543.000000</td>\n",
       "      <td>42697.000000</td>\n",
       "      <td>42220.000000</td>\n",
       "      <td>42438.000000</td>\n",
       "      <td>4.378700e+04</td>\n",
       "      <td>43129.000000</td>\n",
       "      <td>4.743900e+04</td>\n",
       "      <td>47439.000000</td>\n",
       "    </tr>\n",
       "    <tr>\n",
       "      <th>mean</th>\n",
       "      <td>23719.000000</td>\n",
       "      <td>1.296050e+06</td>\n",
       "      <td>1956.634888</td>\n",
       "      <td>2.353383e+05</td>\n",
       "      <td>2.355642</td>\n",
       "      <td>2.094961</td>\n",
       "      <td>5.774587e+03</td>\n",
       "      <td>1.567117</td>\n",
       "      <td>1.491746</td>\n",
       "      <td>5.720824</td>\n",
       "      <td>1.152411</td>\n",
       "      <td>6.134344</td>\n",
       "      <td>2.410366</td>\n",
       "      <td>7.863118e+05</td>\n",
       "      <td>9956.843817</td>\n",
       "      <td>1.315890e+06</td>\n",
       "      <td>93279.178587</td>\n",
       "    </tr>\n",
       "    <tr>\n",
       "      <th>std</th>\n",
       "      <td>13694.604047</td>\n",
       "      <td>1.694452e+06</td>\n",
       "      <td>145.802456</td>\n",
       "      <td>1.192507e+07</td>\n",
       "      <td>1.188805</td>\n",
       "      <td>0.963320</td>\n",
       "      <td>8.324363e+05</td>\n",
       "      <td>9.011608</td>\n",
       "      <td>8.964319</td>\n",
       "      <td>2.103350</td>\n",
       "      <td>2.332367</td>\n",
       "      <td>1.984711</td>\n",
       "      <td>3.596120</td>\n",
       "      <td>1.157796e+06</td>\n",
       "      <td>13884.254976</td>\n",
       "      <td>2.628695e+06</td>\n",
       "      <td>2263.459104</td>\n",
       "    </tr>\n",
       "    <tr>\n",
       "      <th>min</th>\n",
       "      <td>0.000000</td>\n",
       "      <td>1.005000e+05</td>\n",
       "      <td>0.000000</td>\n",
       "      <td>0.000000e+00</td>\n",
       "      <td>0.000000</td>\n",
       "      <td>1.000000</td>\n",
       "      <td>1.000000e+00</td>\n",
       "      <td>-15.000000</td>\n",
       "      <td>-15.000000</td>\n",
       "      <td>1.000000</td>\n",
       "      <td>0.000000</td>\n",
       "      <td>1.000000</td>\n",
       "      <td>0.000000</td>\n",
       "      <td>0.000000e+00</td>\n",
       "      <td>0.000000</td>\n",
       "      <td>0.000000e+00</td>\n",
       "      <td>85611.000000</td>\n",
       "    </tr>\n",
       "    <tr>\n",
       "      <th>25%</th>\n",
       "      <td>11859.500000</td>\n",
       "      <td>5.650000e+05</td>\n",
       "      <td>1946.000000</td>\n",
       "      <td>4.991000e+03</td>\n",
       "      <td>2.000000</td>\n",
       "      <td>2.000000</td>\n",
       "      <td>1.187000e+03</td>\n",
       "      <td>0.000000</td>\n",
       "      <td>0.000000</td>\n",
       "      <td>4.000000</td>\n",
       "      <td>0.300000</td>\n",
       "      <td>5.000000</td>\n",
       "      <td>0.800000</td>\n",
       "      <td>2.549615e+05</td>\n",
       "      <td>3467.000000</td>\n",
       "      <td>5.745000e+05</td>\n",
       "      <td>90220.000000</td>\n",
       "    </tr>\n",
       "    <tr>\n",
       "      <th>50%</th>\n",
       "      <td>23719.000000</td>\n",
       "      <td>9.600000e+05</td>\n",
       "      <td>1967.000000</td>\n",
       "      <td>6.502000e+03</td>\n",
       "      <td>2.000000</td>\n",
       "      <td>2.000000</td>\n",
       "      <td>1.566000e+03</td>\n",
       "      <td>1.000000</td>\n",
       "      <td>1.000000</td>\n",
       "      <td>6.000000</td>\n",
       "      <td>0.500000</td>\n",
       "      <td>6.000000</td>\n",
       "      <td>1.300000</td>\n",
       "      <td>5.475240e+05</td>\n",
       "      <td>7129.000000</td>\n",
       "      <td>9.490000e+05</td>\n",
       "      <td>94114.000000</td>\n",
       "    </tr>\n",
       "    <tr>\n",
       "      <th>75%</th>\n",
       "      <td>35578.500000</td>\n",
       "      <td>1.525000e+06</td>\n",
       "      <td>1989.000000</td>\n",
       "      <td>1.045400e+04</td>\n",
       "      <td>3.000000</td>\n",
       "      <td>2.000000</td>\n",
       "      <td>2.142000e+03</td>\n",
       "      <td>2.000000</td>\n",
       "      <td>2.000000</td>\n",
       "      <td>7.000000</td>\n",
       "      <td>1.000000</td>\n",
       "      <td>8.000000</td>\n",
       "      <td>2.400000</td>\n",
       "      <td>9.371625e+05</td>\n",
       "      <td>12010.000000</td>\n",
       "      <td>1.498844e+06</td>\n",
       "      <td>95073.000000</td>\n",
       "    </tr>\n",
       "    <tr>\n",
       "      <th>max</th>\n",
       "      <td>47438.000000</td>\n",
       "      <td>9.000000e+07</td>\n",
       "      <td>9999.000000</td>\n",
       "      <td>1.897474e+09</td>\n",
       "      <td>24.000000</td>\n",
       "      <td>17.000000</td>\n",
       "      <td>1.764164e+08</td>\n",
       "      <td>1000.000000</td>\n",
       "      <td>1000.000000</td>\n",
       "      <td>10.000000</td>\n",
       "      <td>57.200000</td>\n",
       "      <td>10.000000</td>\n",
       "      <td>73.900000</td>\n",
       "      <td>4.590000e+07</td>\n",
       "      <td>552485.000000</td>\n",
       "      <td>4.025320e+08</td>\n",
       "      <td>96155.000000</td>\n",
       "    </tr>\n",
       "  </tbody>\n",
       "</table>\n",
       "</div>"
      ],
      "text/plain": [
       "                 Id    Sold Price    Year built           Lot     Bathrooms  \\\n",
       "count  47439.000000  4.743900e+04  46394.000000  3.325800e+04  43974.000000   \n",
       "mean   23719.000000  1.296050e+06   1956.634888  2.353383e+05      2.355642   \n",
       "std    13694.604047  1.694452e+06    145.802456  1.192507e+07      1.188805   \n",
       "min        0.000000  1.005000e+05      0.000000  0.000000e+00      0.000000   \n",
       "25%    11859.500000  5.650000e+05   1946.000000  4.991000e+03      2.000000   \n",
       "50%    23719.000000  9.600000e+05   1967.000000  6.502000e+03      2.000000   \n",
       "75%    35578.500000  1.525000e+06   1989.000000  1.045400e+04      3.000000   \n",
       "max    47438.000000  9.000000e+07   9999.000000  1.897474e+09     24.000000   \n",
       "\n",
       "       Full bathrooms  Total interior livable area  Total spaces  \\\n",
       "count    39574.000000                 4.491300e+04  46523.000000   \n",
       "mean         2.094961                 5.774587e+03      1.567117   \n",
       "std          0.963320                 8.324363e+05      9.011608   \n",
       "min          1.000000                 1.000000e+00    -15.000000   \n",
       "25%          2.000000                 1.187000e+03      0.000000   \n",
       "50%          2.000000                 1.566000e+03      1.000000   \n",
       "75%          2.000000                 2.142000e+03      2.000000   \n",
       "max         17.000000                 1.764164e+08   1000.000000   \n",
       "\n",
       "       Garage spaces  Elementary School Score  Elementary School Distance  \\\n",
       "count   46522.000000             42543.000000                42697.000000   \n",
       "mean        1.491746                 5.720824                    1.152411   \n",
       "std         8.964319                 2.103350                    2.332367   \n",
       "min       -15.000000                 1.000000                    0.000000   \n",
       "25%         0.000000                 4.000000                    0.300000   \n",
       "50%         1.000000                 6.000000                    0.500000   \n",
       "75%         2.000000                 7.000000                    1.000000   \n",
       "max      1000.000000                10.000000                   57.200000   \n",
       "\n",
       "       High School Score  High School Distance  Tax assessed value  \\\n",
       "count       42220.000000          42438.000000        4.378700e+04   \n",
       "mean            6.134344              2.410366        7.863118e+05   \n",
       "std             1.984711              3.596120        1.157796e+06   \n",
       "min             1.000000              0.000000        0.000000e+00   \n",
       "25%             5.000000              0.800000        2.549615e+05   \n",
       "50%             6.000000              1.300000        5.475240e+05   \n",
       "75%             8.000000              2.400000        9.371625e+05   \n",
       "max            10.000000             73.900000        4.590000e+07   \n",
       "\n",
       "       Annual tax amount  Listed Price           Zip  \n",
       "count       43129.000000  4.743900e+04  47439.000000  \n",
       "mean         9956.843817  1.315890e+06  93279.178587  \n",
       "std         13884.254976  2.628695e+06   2263.459104  \n",
       "min             0.000000  0.000000e+00  85611.000000  \n",
       "25%          3467.000000  5.745000e+05  90220.000000  \n",
       "50%          7129.000000  9.490000e+05  94114.000000  \n",
       "75%         12010.000000  1.498844e+06  95073.000000  \n",
       "max        552485.000000  4.025320e+08  96155.000000  "
      ]
     },
     "execution_count": 11,
     "metadata": {},
     "output_type": "execute_result"
    }
   ],
   "source": [
    "# Generate descriptive statistics for the training data to understand data distribution.\n",
    "train_data.describe()"
   ]
  },
  {
   "cell_type": "code",
   "execution_count": 12,
   "id": "68625392-9b25-4c97-b110-477b09992f68",
   "metadata": {},
   "outputs": [
    {
     "data": {
      "text/plain": [
       "[Text(3, 0, '1e+03'),\n",
       " Text(4, 0, '1e+04'),\n",
       " Text(5, 0, '1e+05'),\n",
       " Text(6, 0, '1e+06'),\n",
       " Text(7, 0, '1e+07'),\n",
       " Text(8, 0, '1e+08')]"
      ]
     },
     "execution_count": 12,
     "metadata": {},
     "output_type": "execute_result"
    },
    {
     "data": {
      "image/png": "[encoded data removed]",
      "text/plain": [
       "<Figure size 640x480 with 1 Axes>"
      ]
     },
     "metadata": {},
     "output_type": "display_data"
    }
   ],
   "source": [
    "# Plot a histogram of the log of the 'Sold Price' to visualize its distribution.\n",
    "ax = sns.histplot(np.log10(train_data['Sold Price']))\n",
    "ax.set_xlim([3,8])\n",
    "ax.set_xticks(range(3,9))\n",
    "ax.set_xticklabels(['%.0e'%a for a in 10**ax.get_xticks()])"
   ]
  },
  {
   "cell_type": "code",
   "execution_count": 13,
   "id": "641da1c0-b073-4ec8-9337-2fbb26bf3900",
   "metadata": {},
   "outputs": [
    {
     "data": {
      "text/plain": [
       "Type\n",
       "SingleFamily          31324\n",
       "Condo                  8094\n",
       "Townhouse              2545\n",
       "Unknown                1597\n",
       "MultiFamily            1292\n",
       "MobileManufactured     1002\n",
       "VacantLand              810\n",
       "Single Family           177\n",
       "Apartment               169\n",
       "Residential Lot          49\n",
       "Cooperative              48\n",
       "MFD-F                    24\n",
       "2 Story                  20\n",
       "Acreage                  15\n",
       "Duplex                   13\n",
       "3 Story                  11\n",
       "Manufactured Home         9\n",
       "3 Story, Duplex           9\n",
       "31                        7\n",
       "Hi-Rise (9+)              7\n",
       "Name: count, dtype: int64"
      ]
     },
     "execution_count": 13,
     "metadata": {},
     "output_type": "execute_result"
    }
   ],
   "source": [
    "# Display the top 20 most frequent values in the 'Type' column of the dataset.\n",
    "train_data['Type'].value_counts()[0:20]"
   ]
  },
  {
   "cell_type": "code",
   "execution_count": 14,
   "id": "2136b22d-2052-4ff3-9d77-5c5871543fd4",
   "metadata": {},
   "outputs": [
    {
     "data": {
      "text/plain": [
       "<seaborn.axisgrid.FacetGrid at 0x7f832cebbf70>"
      ]
     },
     "execution_count": 14,
     "metadata": {},
     "output_type": "execute_result"
    },
    {
     "data": {
      "image/png": "[encoded data removed]",
      "text/plain": [
       "<Figure size 637.5x500 with 1 Axes>"
      ]
     },
     "metadata": {},
     "output_type": "display_data"
    }
   ],
   "source": [
    "# Plot Kernel Density Estimation (KDE) for log-transformed 'Sold Price' of specific property types.\n",
    "types = train_data['Type'].isin(['SingleFamily', 'Condo', 'MultiFamily', 'Townhouse'])\n",
    "sns.displot(pd.DataFrame({'Sold Price' :np.log10(train_data[types]['Sold Price']), 'Type' :train_data[types]['Type']}), x='Sold Price', hue='Type', kind='kde')"
   ]
  },
  {
   "cell_type": "code",
   "execution_count": 15,
   "id": "263e2aa1-3acc-40a5-9de6-a878ea1a1738",
   "metadata": {},
   "outputs": [
    {
     "data": {
      "text/plain": [
       "\"\\n# Create a new feature 'Price per living sqft' by calculating the ratio of 'Sold Price' to 'Living sqft'.\\ntrain_data['Price per living sqft'] = train_data['Sold Price'] / train_data['Total interior livable area']\\nax = sns.boxplot(x='Type', y='Price per living sqft', data=train_data[types], fliersize=0)\\nax.set_ylim([0, 2000]);\\n\""
      ]
     },
     "execution_count": 15,
     "metadata": {},
     "output_type": "execute_result"
    }
   ],
   "source": [
    "'''\n",
    "# Create a new feature 'Price per living sqft' by calculating the ratio of 'Sold Price' to 'Living sqft'.\n",
    "train_data['Price per living sqft'] = train_data['Sold Price'] / train_data['Total interior livable area']\n",
    "ax = sns.boxplot(x='Type', y='Price per living sqft', data=train_data[types], fliersize=0)\n",
    "ax.set_ylim([0, 2000]);\n",
    "'''"
   ]
  },
  {
   "cell_type": "code",
   "execution_count": 16,
   "id": "c2677fa5-3732-4f86-8a16-20fbc2e74f8a",
   "metadata": {},
   "outputs": [
    {
     "data": {
      "text/plain": [
       "\"\\n# Visulize the 'Zip' feature and the 'price per living sqft'\\nd = train_data[train_data['Zip'].isin(train_data['Zip'].value_counts()[:20].keys())]\\nax = sns.boxplot(x = 'Zip', y = 'Price per living sqft', data = d, fliersize = 0)\\nax.set_ylim([0, 2000])\\nplt.xticks(rotation=90)\\n\""
      ]
     },
     "execution_count": 16,
     "metadata": {},
     "output_type": "execute_result"
    }
   ],
   "source": [
    "'''\n",
    "# Visulize the 'Zip' feature and the 'price per living sqft'\n",
    "d = train_data[train_data['Zip'].isin(train_data['Zip'].value_counts()[:20].keys())]\n",
    "ax = sns.boxplot(x = 'Zip', y = 'Price per living sqft', data = d, fliersize = 0)\n",
    "ax.set_ylim([0, 2000])\n",
    "plt.xticks(rotation=90)\n",
    "'''"
   ]
  },
  {
   "cell_type": "code",
   "execution_count": 17,
   "id": "2cfedfe1-de35-4bc7-ac14-5be2bea729da",
   "metadata": {},
   "outputs": [
    {
     "data": {
      "text/plain": [
       "\"\\n# Visualize the correlation between these six factors 'Sold Price', 'Listed Price', 'Annual tax amount', 'Price per living sqft', 'Elementary School Score', 'High School Score':\\n_, ax = plt.subplots(figsize = (6,6))\\ncolumns = ['Sold Price', 'Listed Price', 'Annual tax amount', 'Price per living sqft', 'Elementary School Score', 'High School Score']\\nsns.heatmap(train_data[columns].corr(), annot = True, ax=ax);\\n\""
      ]
     },
     "execution_count": 17,
     "metadata": {},
     "output_type": "execute_result"
    }
   ],
   "source": [
    "'''\n",
    "# Visualize the correlation between these six factors 'Sold Price', 'Listed Price', 'Annual tax amount', 'Price per living sqft', 'Elementary School Score', 'High School Score':\n",
    "_, ax = plt.subplots(figsize = (6,6))\n",
    "columns = ['Sold Price', 'Listed Price', 'Annual tax amount', 'Price per living sqft', 'Elementary School Score', 'High School Score']\n",
    "sns.heatmap(train_data[columns].corr(), annot = True, ax=ax);\n",
    "'''"
   ]
  },
  {
   "cell_type": "code",
   "execution_count": 18,
   "id": "f066dade-9565-402c-9f88-28b3c63f85a0",
   "metadata": {},
   "outputs": [],
   "source": [
    "#drop redundant features\n",
    "redundant_cols = ['Address', 'Summary', 'City', 'State']\n",
    "for c in redundant_cols:\n",
    "    del test_data[c], train_data[c]"
   ]
  },
  {
   "cell_type": "code",
   "execution_count": 19,
   "id": "b22fa5e2-ea32-4a02-bd9a-6605cdc1decd",
   "metadata": {},
   "outputs": [],
   "source": [
    "#process the big data\n",
    "large_vel_cols = ['Lot', 'Total interior livable area', 'Tax assessed value', 'Annual tax amount', 'Listed Price']\n",
    "for c in large_vel_cols:\n",
    "    train_data[c] = np.log(train_data[c]+1)\n",
    "    test_data[c] = np.log(test_data[c]+1)"
   ]
  },
  {
   "cell_type": "code",
   "execution_count": 20,
   "id": "dc65b06a-18a1-4cac-bb5a-5b48fd8987b2",
   "metadata": {},
   "outputs": [],
   "source": [
    "#Feature process, filling 0 to the missing data\n",
    "train_features = train_data.drop(columns=['Sold Price'])\n",
    "test_features =  test_data\n",
    "all_features = pd.concat([train_features, test_features], axis=0, ignore_index=True)\n",
    "numeric_features = all_features.dtypes[all_features.dtypes == 'float64'].index\n",
    "all_features = all_features.fillna(method='bfill', axis=0).fillna(0)"
   ]
  },
  {
   "cell_type": "code",
   "execution_count": 21,
   "id": "ec50b609-bac3-4d01-b2ad-2ff75a7980dd",
   "metadata": {},
   "outputs": [],
   "source": [
    "#normalization\n",
    "all_features[numeric_features] = all_features[numeric_features].apply(lambda x: (x - x.mean()) / (x.std()))"
   ]
  },
  {
   "cell_type": "code",
   "execution_count": 22,
   "id": "c1cd0a52-8e65-4344-b2c8-7b93c9ae4ba7",
   "metadata": {},
   "outputs": [],
   "source": [
    "#creat featuers\n",
    "features = list(numeric_features)"
   ]
  },
  {
   "cell_type": "code",
   "execution_count": 23,
   "id": "64d8e396-9859-4f44-a887-52f128e5080f",
   "metadata": {},
   "outputs": [
    {
     "name": "stdout",
     "output_type": "stream",
     "text": [
      "Type                 174\n",
      "Heating              2658\n",
      "Parking              9911\n",
      "Bedrooms             277\n",
      "Region               1258\n",
      "Elementary School    3567\n",
      "High School          921\n",
      "Flooring             1738\n",
      "Heating features     1761\n",
      "Appliances included  11289\n",
      "Parking features     9693\n",
      "Listed On            2815\n"
     ]
    }
   ],
   "source": [
    "#show the features with object types for one-hot\n",
    "for in_object in all_features.dtypes[all_features.dtypes=='object'].index:\n",
    "    print(in_object.ljust(20),len(all_features[in_object].unique()))"
   ]
  },
  {
   "cell_type": "code",
   "execution_count": 24,
   "id": "ced1fe4b-0d70-40e1-af58-cd8ec9d695c6",
   "metadata": {},
   "outputs": [],
   "source": [
    "#add 'Type','Bedrooms' into features\n",
    "features.extend(['Type','Bedrooms'])\n",
    "all_features = all_features[features]"
   ]
  },
  {
   "cell_type": "code",
   "execution_count": 25,
   "id": "41650f55-8bcd-49a1-8580-71510f4abc1e",
   "metadata": {},
   "outputs": [
    {
     "name": "stdout",
     "output_type": "stream",
     "text": [
      "before one hot (79065, 16)\n",
      "after one hot (79065, 467)\n"
     ]
    }
   ],
   "source": [
    "#one-hot, and difference after one-hot\n",
    "print('before one hot',all_features.shape)\n",
    "all_features = pd.get_dummies(all_features,dummy_na=True)\n",
    "print('after one hot',all_features.shape)"
   ]
  },
  {
   "cell_type": "code",
   "execution_count": 26,
   "id": "8f186237-23f0-469d-8da3-4cc69aa2780a",
   "metadata": {},
   "outputs": [],
   "source": [
    "#split the train and validation data sets\n",
    "from sklearn.model_selection import train_test_split\n",
    "#spliting train , validation ,and test set\n",
    "n_train = train_data.shape[0]\n",
    "train_validation_features = torch.tensor(all_features[:n_train].values.tolist(), dtype=torch.float)\n",
    "test_features = torch.tensor(all_features[n_train:].values.tolist(), dtype=torch.float)\n",
    "train_validation_labels = torch.tensor(train_data['Sold Price'].values.reshape(-1, 1), dtype=torch.float)\n",
    "#spliting to train and validation dataset\n",
    "train_features, validation_features, train_labels, validation_labels = train_test_split(train_validation_features, train_validation_labels, test_size=0.2, random_state=0)"
   ]
  },
  {
   "cell_type": "code",
   "execution_count": 27,
   "id": "5a975794-0968-4542-a3d4-d5e00debfcff",
   "metadata": {},
   "outputs": [],
   "source": [
    "# Define the models with customizable parameters\n",
    "linear_model = LinearRegression()\n",
    "\n",
    "\n",
    "decision_tree_model = DecisionTreeRegressor(\n",
    "    max_depth=8,  # Maximum depth of the tree\n",
    "    min_samples_split=16,  # Minimum number of samples required to split an internal node\n",
    "    random_state=0\n",
    ")\n",
    "random_forest_model = RandomForestRegressor(\n",
    "    n_estimators=20,  # Number of trees in the forest\n",
    "    max_depth=None,  # Maximum depth of the tree\n",
    "    min_samples_split=48,  # Minimum number of samples required to split an internal node\n",
    "    random_state=0\n",
    ")\n",
    "mlp_model = MLPRegressor(\n",
    "    hidden_layer_sizes=(256,),  # Number and size of the hidden layers\n",
    "    max_iter=5000,  # Maximum number of iterations\n",
    "    solver='adam',  # Solver for weight optimization\n",
    "    learning_rate_init=0.005,  # Initial learning rate\n",
    "    early_stopping=True,  # Whether to use early stopping to terminate training when validation score is not improving\n",
    "    validation_fraction=0.1,  # Proportion of training data to set aside as validation set for early stopping\n",
    "    random_state=0\n",
    ")\n",
    "\n",
    "# Function to train and evaluate models\n",
    "def train_evaluate(model, train_features, train_labels, val_features, val_labels):\n",
    "    model.fit(train_features, train_labels.ravel())  # Train the model\n",
    "    train_predictions = model.predict(train_features)  # Make predictions on train set\n",
    "    val_predictions = model.predict(val_features)  # Make predictions on validation set\n",
    "    train_mse = mean_squared_error(train_labels, train_predictions)  # Calculate MSE for train\n",
    "    train_rmse = mean_squared_error(train_labels, train_predictions, squared=False)  # Calculate RMSE for train\n",
    "    train_mae = mean_absolute_error(train_labels, train_predictions)  # Calculate MAE for train\n",
    "    val_mse = mean_squared_error(val_labels, val_predictions)  # Calculate MSE for validation\n",
    "    val_rmse = mean_squared_error(val_labels, val_predictions, squared=False)  # Calculate RMSE for validation\n",
    "    val_mae = mean_absolute_error(val_labels, val_predictions)  # Calculate MAE for validation\n",
    "    test_predictions = model.predict(test_features)  # Make predictions on test set\n",
    "    return (train_mse, train_rmse, train_mae), (val_mse, val_rmse, val_mae)\n"
   ]
  },
  {
   "cell_type": "code",
   "execution_count": 28,
   "id": "af6cd266-dcb4-4b21-82e8-03258b62639e",
   "metadata": {},
   "outputs": [
    {
     "name": "stdout",
     "output_type": "stream",
     "text": [
      "Linear Regression Model Evaluation:\n",
      "  Train - MSE: 1582648000512.0, RMSE: 1258033.375, MAE: 493546.15625\n",
      "  Validation - MSE: 57870351597568.0, RMSE: 7607256.5, MAE: 791800.3125\n",
      "\n",
      "  Difference - MSE: -56287702286336.0, RMSE: -6349223.0, MAE: -298254.15625\n",
      "\n"
     ]
    }
   ],
   "source": [
    "# Linear Regression\n",
    "print(\"Linear Regression Model Evaluation:\")\n",
    "\n",
    "linear_results = train_evaluate(linear_model, train_features, train_labels, validation_features, validation_labels)\n",
    "print(f\"  Train - MSE: {linear_results[0][0]}, RMSE: {linear_results[0][1]}, MAE: {linear_results[0][2]}\")\n",
    "print(f\"  Validation - MSE: {linear_results[1][0]}, RMSE: {linear_results[1][1]}, MAE: {linear_results[1][2]}\\n\")\n",
    "print(f\"  Difference - MSE: {linear_results[0][0]-linear_results[1][0]}, RMSE: {linear_results[0][1]-linear_results[1][1]}, MAE: {linear_results[0][2]-linear_results[1][2]}\\n\")"
   ]
  },
  {
   "cell_type": "code",
   "execution_count": 29,
   "id": "e6107402-b4a6-4fec-aeb1-8e29ec16ad40",
   "metadata": {},
   "outputs": [
    {
     "name": "stdout",
     "output_type": "stream",
     "text": [
      "Decision Tree Model Evaluation:\n",
      "  Train - MSE: 441587697453.7708, RMSE: 664520.6523907069, MAE: 141671.29821131565\n",
      "  Validation - MSE: 931156285906.1067, RMSE: 964964.3961857384, MAE: 167452.58658047416\n",
      "\n",
      "  Difference - MSE: -489568588452.3359, RMSE: -300443.74379503145, MAE: -25781.288369158516\n",
      "\n"
     ]
    }
   ],
   "source": [
    "# Decision Tree Regression\n",
    "print(\"Decision Tree Model Evaluation:\")\n",
    "\n",
    "decision_tree_results = train_evaluate(decision_tree_model, train_features, train_labels, validation_features, validation_labels)\n",
    "print(f\"  Train - MSE: {decision_tree_results[0][0]}, RMSE: {decision_tree_results[0][1]}, MAE: {decision_tree_results[0][2]}\")\n",
    "print(f\"  Validation - MSE: {decision_tree_results[1][0]}, RMSE: {decision_tree_results[1][1]}, MAE: {decision_tree_results[1][2]}\\n\")\n",
    "print(f\"  Difference - MSE: {decision_tree_results[0][0]-decision_tree_results[1][0]}, RMSE: {decision_tree_results[0][1]-decision_tree_results[1][1]}, MAE: {decision_tree_results[0][2]-decision_tree_results[1][2]}\\n\")"
   ]
  },
  {
   "cell_type": "code",
   "execution_count": 30,
   "id": "63843bc7-a647-42cd-9456-2e7dfa0c79f0",
   "metadata": {},
   "outputs": [
    {
     "name": "stdout",
     "output_type": "stream",
     "text": [
      "Random Forest Model Evaluation:\n",
      "  Train - MSE: 520293391717.3658, RMSE: 721313.6569602477, MAE: 123053.45506929864\n",
      "  Validation - MSE: 710399086135.8394, RMSE: 842851.7581021228, MAE: 149900.95975540808\n",
      "\n",
      "  Difference - MSE: -190105694418.47357, RMSE: -121538.10114187514, MAE: -26847.504686109445\n",
      "\n"
     ]
    }
   ],
   "source": [
    "# Random Forest Regression\n",
    "print(\"Random Forest Model Evaluation:\")\n",
    "\n",
    "random_forest_results = train_evaluate(random_forest_model, train_features, train_labels, validation_features, validation_labels)\n",
    "print(f\"  Train - MSE: {random_forest_results[0][0]}, RMSE: {random_forest_results[0][1]}, MAE: {random_forest_results[0][2]}\")\n",
    "print(f\"  Validation - MSE: {random_forest_results[1][0]}, RMSE: {random_forest_results[1][1]}, MAE: {random_forest_results[1][2]}\\n\")\n",
    "print(f\"  Difference - MSE: {random_forest_results[0][0]-random_forest_results[1][0]}, RMSE: {random_forest_results[0][1]-random_forest_results[1][1]}, MAE: {random_forest_results[0][2]-random_forest_results[1][2]}\\n\")"
   ]
  },
  {
   "cell_type": "code",
   "execution_count": 31,
   "id": "ac810d31-ed44-44db-9109-2999cb6c1972",
   "metadata": {},
   "outputs": [
    {
     "name": "stdout",
     "output_type": "stream",
     "text": [
      "MLP Model Evaluation:\n",
      "  Train - MSE: 709725229335.2216, RMSE: 842451.9151472216, MAE: 173406.82142168185\n",
      "  Validation - MSE: 824573654627.4146, RMSE: 908060.3804964814, MAE: 174901.33554506625\n",
      "\n",
      "  Difference - MSE: -114848425292.193, RMSE: -65608.46534925979, MAE: -1494.5141233844042\n",
      "\n"
     ]
    }
   ],
   "source": [
    "\n",
    "# MLP Regression\n",
    "print(\"MLP Model Evaluation:\")\n",
    "\n",
    "mlp_results = train_evaluate(mlp_model, train_features, train_labels, validation_features, validation_labels)\n",
    "print(f\"  Train - MSE: {mlp_results[0][0]}, RMSE: {mlp_results[0][1]}, MAE: {mlp_results[0][2]}\")\n",
    "print(f\"  Validation - MSE: {mlp_results[1][0]}, RMSE: {mlp_results[1][1]}, MAE: {mlp_results[1][2]}\\n\")\n",
    "print(f\"  Difference - MSE: {mlp_results[0][0]-mlp_results[1][0]}, RMSE: {mlp_results[0][1]-mlp_results[1][1]}, MAE: {mlp_results[0][2]-mlp_results[1][2]}\\n\")\n"
   ]
  },
  {
   "cell_type": "code",
   "execution_count": 32,
   "id": "934f3e82-d4c5-49fe-a675-82e48c28e437",
   "metadata": {},
   "outputs": [],
   "source": [
    "# Linear model Prediction \n",
    "predictions = linear_model.predict(test_features)\n",
    "\n",
    "test_data['Sold Price'] = pd.Series(predictions.reshape(1, -1)[0])\n",
    "submission = pd.concat([test_data['Id'], test_data['Sold Price']], axis=1)\n",
    "submission.to_csv('Linear.csv', index=False)"
   ]
  },
  {
   "cell_type": "code",
   "execution_count": 33,
   "id": "a8671edf-5c7e-43c2-8508-8d3d499d5dbf",
   "metadata": {},
   "outputs": [],
   "source": [
    "# Decision Tree Prediction \n",
    "predictions = decision_tree_model.predict(test_features)\n",
    "\n",
    "test_data['Sold Price'] = pd.Series(predictions.reshape(1, -1)[0])\n",
    "submission = pd.concat([test_data['Id'], test_data['Sold Price']], axis=1)\n",
    "submission.to_csv('Decision_Tree_model.csv', index=False)"
   ]
  },
  {
   "cell_type": "code",
   "execution_count": 34,
   "id": "02821aff-14e7-4daf-a04c-a5b5e5e7a700",
   "metadata": {},
   "outputs": [],
   "source": [
    "# Random Forest Prediction \n",
    "predictions = random_forest_model.predict(test_features)\n",
    "\n",
    "test_data['Sold Price'] = pd.Series(predictions.reshape(1, -1)[0])\n",
    "submission = pd.concat([test_data['Id'], test_data['Sold Price']], axis=1)\n",
    "submission.to_csv('Random_forest_model.csv', index=False)"
   ]
  },
  {
   "cell_type": "code",
   "execution_count": 35,
   "id": "16747f77-1ace-4a01-99fa-c6b66183905f",
   "metadata": {},
   "outputs": [],
   "source": [
    "# MLP Prediction \n",
    "predictions = mlp_model.predict(test_features)\n",
    "\n",
    "test_data['Sold Price'] = pd.Series(predictions.reshape(1, -1)[0])\n",
    "submission = pd.concat([test_data['Id'], test_data['Sold Price']], axis=1)\n",
    "submission.to_csv('MLP_model.csv', index=False)"
   ]
  }
 ],
 "metadata": {
  "kernelspec": {
   "display_name": "EEE",
   "language": "python",
   "name": "eee"
  },
  "language_info": {
   "codemirror_mode": {
    "name": "ipython",
    "version": 3
   },
   "file_extension": ".py",
   "mimetype": "text/x-python",
   "name": "python",
   "nbconvert_exporter": "python",
   "pygments_lexer": "ipython3",
   "version": "3.8.18"
  }
 },
 "nbformat": 4,
 "nbformat_minor": 5
}
